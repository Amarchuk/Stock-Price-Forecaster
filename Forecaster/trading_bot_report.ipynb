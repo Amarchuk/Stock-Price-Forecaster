{
 "cells": [
  {
   "cell_type": "markdown",
   "metadata": {},
   "source": [
    "# Building a Trading Robot\n",
    "## Machine Learning Engineer Nanodegree\n",
    "**Calvin Ku**\n",
    "\n",
    "**September 27, 2016**\n",
    "\n",
    "## Definition\n",
    "### Project Overview\n",
    "This project is about building a trading robot, or we can call it a trading bot. The trading bot is built to give the common user suggestions on whether to buy or sell or hold a particular stock on a particular trading day. The goal of this project is to build a trading bot that can beat a random monkey bot. Inpired by the famous saying of Princeton University professor Burton Malkiel in 1973 that \"A blindfolded monkey throwing darts at a newspaper’s financial pages could select a portfolio that would do just as well as one carefully selected by experts” and the Forbes article [Any Monkey Can Beat the Market](http://www.forbes.com/sites/rickferri/2012/12/20/any-monkey-can-beat-the-market/#da3bf2d6e8b6), instead of competing on a portfolio basis, we set the battlefield on the SPY ETF.\n",
    "\n",
    "We will use SPY as an example in this project but the same method can be applied to any stock. In the end we will evaluate our method by giving the monkey bot (which chooses the three actions equally on a random basis) and our chimp (the trading bot) 1000 dollars and see how they perform through the year 2015 and 2016 on SPY.\n",
    "\n",
    "#### Data used in this project\n",
    "The only data used in this project is the SPY historical data collected from Yahoo Finance. The data ranges from January 29, 1993 to September 6, 2016.\n",
    "\n",
    "### Problem Statement\n",
    "Problem with trading is that you never know when is the best time to buy or sell a stock, as you never know if the stock price will go up or go down in the future. This simple trading bot is an attempt to solve this problem.\n",
    "\n",
    "Given the historical data of a stock, our chimp will tell you whether you should buy or sell or hold a particular stock (in our case, the SPY).\n",
    "\n",
    "### Metrics\n",
    "In this project we use the cash in hand plus the portfolio value (number of shares in hand times the market price) as the metric and define the reward function as the differnce of the metrics between the current state and the previous.\n",
    "\n",
    "This simple metric is in line with what we want the trading bot to achieve in that our ultimate goal is to get as much as possible given what we have put into the market, and it doesn't matter whether it's in cash or in shares.\n",
    "\n",
    "## Analysis\n",
    "### Data Exploration"
   ]
  },
  {
   "cell_type": "markdown",
   "metadata": {},
   "source": [
    "#### First look\n",
    "Let's first take a glance at our data and see if there's any missing values."
   ]
  },
  {
   "cell_type": "markdown",
   "metadata": {},
   "source": [
    "![](TradingBot/img/missing_values.png)"
   ]
  },
  {
   "cell_type": "code",
   "execution_count": null,
   "metadata": {
    "collapsed": true
   },
   "outputs": [],
   "source": []
  }
 ],
 "metadata": {
  "kernelspec": {
   "display_name": "Python 2",
   "language": "python",
   "name": "python2"
  },
  "language_info": {
   "codemirror_mode": {
    "name": "ipython",
    "version": 2
   },
   "file_extension": ".py",
   "mimetype": "text/x-python",
   "name": "python",
   "nbconvert_exporter": "python",
   "pygments_lexer": "ipython2",
   "version": "2.7.12"
  }
 },
 "nbformat": 4,
 "nbformat_minor": 0
}
